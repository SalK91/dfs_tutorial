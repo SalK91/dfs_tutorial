{
 "cells": [
  {
   "cell_type": "code",
   "execution_count": null,
   "metadata": {},
   "outputs": [],
   "source": [
    "import numpy as np\n",
    "import matplotlib.pyplot as plt\n",
    "from sklearn.datasets import make_classification\n",
    "from sklearn.svm import SVC\n",
    "from sklearn.preprocessing import PolynomialFeatures\n",
    "from sklearn.pipeline import make_pipeline\n",
    "\n",
    "# Create a synthetic dataset with a non-linear relationship\n",
    "X, y = make_classification(n_samples=100, n_features=1, n_informative=1, n_redundant=0, random_state=42)\n",
    "\n",
    "# Plot the original data\n",
    "plt.figure(figsize=(10, 6))\n",
    "plt.scatter(X, y, marker='o', c=y, edgecolors='k', cmap=plt.cm.Paired)\n",
    "plt.title('Original Data with Non-Linear Relationship')\n",
    "plt.xlabel('Feature')\n",
    "plt.ylabel('Class')\n",
    "plt.show()\n",
    "\n",
    "# Apply a quadratic transformation to the features\n",
    "poly = PolynomialFeatures(degree=2, include_bias=False)\n",
    "X_transformed = poly.fit_transform(X)\n",
    "\n",
    "# Plot the data after transformation\n",
    "plt.figure(figsize=(10, 6))\n",
    "plt.scatter(X_transformed[:, 0], y, marker='o', c=y, edgecolors='k', cmap=plt.cm.Paired)\n",
    "plt.title('Data Transformed into a Higher-Dimensional Space (Quadratic Transformation)')\n",
    "plt.xlabel('Transformed Feature 1')\n",
    "plt.ylabel('Class')\n",
    "plt.show()\n",
    "\n",
    "# Fit a Support Vector Machine (SVM) on the transformed data\n",
    "svm_model = make_pipeline(PolynomialFeatures(degree=2, include_bias=False), SVC(kernel='linear'))\n",
    "svm_model.fit(X, y)\n",
    "\n",
    "# Plot the decision boundary in the original feature space\n",
    "plt.figure(figsize=(10, 6))\n",
    "plt.scatter(X, y, marker='o', c=y, edgecolors='k', cmap=plt.cm.Paired)\n",
    "ax = plt.gca()\n",
    "ax.scatter(svm_model.named_steps['polynomialfeatures'].transform(X)[:, 0], y, marker='o', c=y, edgecolors='k', cmap=plt.cm.Paired)\n",
    "ax.scatter(svm_model.named_steps['polynomialfeatures'].transform(svm_model.named_steps['polynomialfeatures'].transform(X)[:, 0])[:, 1],\n",
    "           svm_model.decision_function(X), marker='o', c=y, edgecolors='k', cmap=plt.cm.Paired)\n",
    "ax.set_title('Decision Boundary in Original Feature Space (After Quadratic Transformation)')\n",
    "ax.set_xlabel('Feature')\n",
    "ax.set_ylabel('Class')\n",
    "plt.show()\n"
   ]
  }
 ],
 "metadata": {
  "language_info": {
   "name": "python"
  }
 },
 "nbformat": 4,
 "nbformat_minor": 2
}
