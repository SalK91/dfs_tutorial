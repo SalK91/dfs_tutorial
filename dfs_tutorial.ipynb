{
 "cells": [
  {
   "cell_type": "code",
   "execution_count": 30,
   "metadata": {},
   "outputs": [
    {
     "name": "stdout",
     "output_type": "stream",
     "text": [
      "Collecting graphviz\n",
      "  Downloading graphviz-0.20.1-py3-none-any.whl (47 kB)\n",
      "     ---------------------------------------- 0.0/47.0 kB ? eta -:--:--\n",
      "     ---------------------------------------- 47.0/47.0 kB 1.2 MB/s eta 0:00:00\n",
      "Installing collected packages: graphviz\n",
      "Successfully installed graphviz-0.20.1\n"
     ]
    },
    {
     "name": "stderr",
     "output_type": "stream",
     "text": [
      "WARNING: Ignoring invalid distribution -rotobuf (c:\\users\\salmank\\anaconda3\\lib\\site-packages)\n",
      "WARNING: Ignoring invalid distribution -rotobuf (c:\\users\\salmank\\anaconda3\\lib\\site-packages)\n",
      "\n",
      "[notice] A new release of pip is available: 23.2.1 -> 23.3.2\n",
      "[notice] To update, run: python.exe -m pip install --upgrade pip\n"
     ]
    }
   ],
   "source": [
    "#!pip install -U featuretools\n",
    "#!python -m pip install graphviz\n",
    "#https://www.kaggle.com/code/willkoehrsen/automated-feature-engineering-tutorial"
   ]
  },
  {
   "cell_type": "code",
   "execution_count": 2,
   "metadata": {},
   "outputs": [],
   "source": [
    "import pandas as pd\n",
    "import numpy as np\n",
    "import featuretools as ft\n",
    "import warnings\n",
    "warnings.filterwarnings('ignore')\n",
    "\n",
    "from woodwork.logical_types import Categorical, PostalCode\n"
   ]
  },
  {
   "cell_type": "code",
   "execution_count": 9,
   "metadata": {},
   "outputs": [
    {
     "data": {
      "text/html": [
       "<div>\n",
       "<style scoped>\n",
       "    .dataframe tbody tr th:only-of-type {\n",
       "        vertical-align: middle;\n",
       "    }\n",
       "\n",
       "    .dataframe tbody tr th {\n",
       "        vertical-align: top;\n",
       "    }\n",
       "\n",
       "    .dataframe thead th {\n",
       "        text-align: right;\n",
       "    }\n",
       "</style>\n",
       "<table border=\"1\" class=\"dataframe\">\n",
       "  <thead>\n",
       "    <tr style=\"text-align: right;\">\n",
       "      <th></th>\n",
       "      <th>client_id</th>\n",
       "      <th>joined</th>\n",
       "      <th>income</th>\n",
       "      <th>credit_score</th>\n",
       "    </tr>\n",
       "  </thead>\n",
       "  <tbody>\n",
       "    <tr>\n",
       "      <th>0</th>\n",
       "      <td>46109</td>\n",
       "      <td>2002-04-16</td>\n",
       "      <td>172677</td>\n",
       "      <td>527</td>\n",
       "    </tr>\n",
       "    <tr>\n",
       "      <th>1</th>\n",
       "      <td>49545</td>\n",
       "      <td>2007-11-14</td>\n",
       "      <td>104564</td>\n",
       "      <td>770</td>\n",
       "    </tr>\n",
       "    <tr>\n",
       "      <th>2</th>\n",
       "      <td>41480</td>\n",
       "      <td>2013-03-11</td>\n",
       "      <td>122607</td>\n",
       "      <td>585</td>\n",
       "    </tr>\n",
       "    <tr>\n",
       "      <th>3</th>\n",
       "      <td>46180</td>\n",
       "      <td>2001-11-06</td>\n",
       "      <td>43851</td>\n",
       "      <td>562</td>\n",
       "    </tr>\n",
       "    <tr>\n",
       "      <th>4</th>\n",
       "      <td>25707</td>\n",
       "      <td>2006-10-06</td>\n",
       "      <td>211422</td>\n",
       "      <td>621</td>\n",
       "    </tr>\n",
       "  </tbody>\n",
       "</table>\n",
       "</div>"
      ],
      "text/plain": [
       "   client_id     joined  income  credit_score\n",
       "0      46109 2002-04-16  172677           527\n",
       "1      49545 2007-11-14  104564           770\n",
       "2      41480 2013-03-11  122607           585\n",
       "3      46180 2001-11-06   43851           562\n",
       "4      25707 2006-10-06  211422           621"
      ]
     },
     "execution_count": 9,
     "metadata": {},
     "output_type": "execute_result"
    }
   ],
   "source": [
    "# Load Data\n",
    "clients = pd.read_csv('./data/clients.csv', parse_dates = ['joined'])\n",
    "loans = pd.read_csv('./data/loans.csv', parse_dates = ['loan_start', 'loan_end'])\n",
    "payments = pd.read_csv('./data/payments.csv', parse_dates = ['payment_date'])\n",
    "\n",
    "clients.head()\n"
   ]
  },
  {
   "cell_type": "markdown",
   "metadata": {},
   "source": [
    "## Data Representation with EntitySets\n",
    "An EntitySet is a collection of dataframes and the relationships between them. They are useful for preparing raw, structured datasets for feature engineering. While many functions in Featuretools take dataframes and relationships as separate arguments, it is recommended to create an EntitySet, so you can more easily manipulate your data as needed.\n",
    "\n"
   ]
  },
  {
   "cell_type": "code",
   "execution_count": 10,
   "metadata": {},
   "outputs": [
    {
     "data": {
      "image/svg+xml": [
       "<?xml version=\"1.0\" encoding=\"UTF-8\" standalone=\"no\"?>\n",
       "<!DOCTYPE svg PUBLIC \"-//W3C//DTD SVG 1.1//EN\"\n",
       " \"http://www.w3.org/Graphics/SVG/1.1/DTD/svg11.dtd\">\n",
       "<!-- Generated by graphviz version 9.0.0 (20230911.1827)\n",
       " -->\n",
       "<!-- Title: clients Pages: 1 -->\n",
       "<svg width=\"230pt\" height=\"446pt\"\n",
       " viewBox=\"0.00 0.00 229.50 446.00\" xmlns=\"http://www.w3.org/2000/svg\" xmlns:xlink=\"http://www.w3.org/1999/xlink\">\n",
       "<g id=\"graph0\" class=\"graph\" transform=\"scale(1 1) rotate(0) translate(4 442)\">\n",
       "<title>clients</title>\n",
       "<polygon fill=\"white\" stroke=\"none\" points=\"-4,4 -4,-442 225.5,-442 225.5,4 -4,4\"/>\n",
       "<!-- clients -->\n",
       "<g id=\"node1\" class=\"node\">\n",
       "<title>clients</title>\n",
       "<polygon fill=\"none\" stroke=\"black\" points=\"22.12,-0.5 22.12,-95.25 199.38,-95.25 199.38,-0.5 22.12,-0.5\"/>\n",
       "<text text-anchor=\"middle\" x=\"110.75\" y=\"-77.95\" font-family=\"Times New Roman,serif\" font-size=\"14.00\">clients (25 rows)</text>\n",
       "<polyline fill=\"none\" stroke=\"black\" points=\"22.12,-71.5 199.38,-71.5\"/>\n",
       "<text text-anchor=\"start\" x=\"30.12\" y=\"-54.2\" font-family=\"Times New Roman,serif\" font-size=\"14.00\">client_id : Integer; index</text>\n",
       "<text text-anchor=\"start\" x=\"30.12\" y=\"-38.45\" font-family=\"Times New Roman,serif\" font-size=\"14.00\">joined : Datetime; time_index</text>\n",
       "<text text-anchor=\"start\" x=\"30.12\" y=\"-22.7\" font-family=\"Times New Roman,serif\" font-size=\"14.00\">income : Integer</text>\n",
       "<text text-anchor=\"start\" x=\"30.12\" y=\"-6.95\" font-family=\"Times New Roman,serif\" font-size=\"14.00\">credit_score : Integer</text>\n",
       "</g>\n",
       "<!-- loans -->\n",
       "<g id=\"node2\" class=\"node\">\n",
       "<title>loans</title>\n",
       "<polygon fill=\"none\" stroke=\"black\" points=\"11.62,-132.25 11.62,-290 209.88,-290 209.88,-132.25 11.62,-132.25\"/>\n",
       "<text text-anchor=\"middle\" x=\"110.75\" y=\"-272.7\" font-family=\"Times New Roman,serif\" font-size=\"14.00\">loans (443 rows)</text>\n",
       "<polyline fill=\"none\" stroke=\"black\" points=\"11.62,-266.25 209.88,-266.25\"/>\n",
       "<text text-anchor=\"start\" x=\"19.62\" y=\"-248.95\" font-family=\"Times New Roman,serif\" font-size=\"14.00\">client_id : Integer; foreign_key</text>\n",
       "<text text-anchor=\"start\" x=\"19.62\" y=\"-233.2\" font-family=\"Times New Roman,serif\" font-size=\"14.00\">loan_type : Categorical</text>\n",
       "<text text-anchor=\"start\" x=\"19.62\" y=\"-217.45\" font-family=\"Times New Roman,serif\" font-size=\"14.00\">loan_amount : Integer</text>\n",
       "<text text-anchor=\"start\" x=\"19.62\" y=\"-201.7\" font-family=\"Times New Roman,serif\" font-size=\"14.00\">repaid : Integer</text>\n",
       "<text text-anchor=\"start\" x=\"19.62\" y=\"-185.95\" font-family=\"Times New Roman,serif\" font-size=\"14.00\">loan_id : Integer; index</text>\n",
       "<text text-anchor=\"start\" x=\"19.62\" y=\"-170.2\" font-family=\"Times New Roman,serif\" font-size=\"14.00\">loan_start : Datetime; time_index</text>\n",
       "<text text-anchor=\"start\" x=\"19.62\" y=\"-154.45\" font-family=\"Times New Roman,serif\" font-size=\"14.00\">loan_end : Datetime</text>\n",
       "<text text-anchor=\"start\" x=\"19.62\" y=\"-138.7\" font-family=\"Times New Roman,serif\" font-size=\"14.00\">rate : Double</text>\n",
       "</g>\n",
       "<!-- loans&#45;&gt;clients -->\n",
       "<g id=\"edge1\" class=\"edge\">\n",
       "<title>loans&#45;&gt;clients</title>\n",
       "<path fill=\"none\" stroke=\"black\" d=\"M110.75,-131.89C110.75,-131.89 110.75,-106.82 110.75,-106.82\"/>\n",
       "<polygon fill=\"black\" stroke=\"black\" points=\"114.25,-106.82 110.75,-96.82 107.25,-106.82 114.25,-106.82\"/>\n",
       "<text text-anchor=\"middle\" x=\"87.12\" y=\"-106.06\" font-family=\"Times New Roman,serif\" font-size=\"14.00\">client_id</text>\n",
       "</g>\n",
       "<!-- payments -->\n",
       "<g id=\"node3\" class=\"node\">\n",
       "<title>payments</title>\n",
       "<polygon fill=\"none\" stroke=\"black\" points=\"0,-327 0,-437.5 221.5,-437.5 221.5,-327 0,-327\"/>\n",
       "<text text-anchor=\"middle\" x=\"110.75\" y=\"-420.2\" font-family=\"Times New Roman,serif\" font-size=\"14.00\">payments (3456 rows)</text>\n",
       "<polyline fill=\"none\" stroke=\"black\" points=\"0,-413.75 221.5,-413.75\"/>\n",
       "<text text-anchor=\"start\" x=\"8\" y=\"-396.45\" font-family=\"Times New Roman,serif\" font-size=\"14.00\">payment_id : Integer; index</text>\n",
       "<text text-anchor=\"start\" x=\"8\" y=\"-380.7\" font-family=\"Times New Roman,serif\" font-size=\"14.00\">loan_id : Integer; foreign_key</text>\n",
       "<text text-anchor=\"start\" x=\"8\" y=\"-364.95\" font-family=\"Times New Roman,serif\" font-size=\"14.00\">payment_amount : Integer</text>\n",
       "<text text-anchor=\"start\" x=\"8\" y=\"-349.2\" font-family=\"Times New Roman,serif\" font-size=\"14.00\">payment_date : Datetime; time_index</text>\n",
       "<text text-anchor=\"start\" x=\"8\" y=\"-333.45\" font-family=\"Times New Roman,serif\" font-size=\"14.00\">missed : Integer</text>\n",
       "</g>\n",
       "<!-- payments&#45;&gt;loans -->\n",
       "<g id=\"edge2\" class=\"edge\">\n",
       "<title>payments&#45;&gt;loans</title>\n",
       "<path fill=\"none\" stroke=\"black\" d=\"M110.75,-326.69C110.75,-326.69 110.75,-301.85 110.75,-301.85\"/>\n",
       "<polygon fill=\"black\" stroke=\"black\" points=\"114.25,-301.85 110.75,-291.85 107.25,-301.85 114.25,-301.85\"/>\n",
       "<text text-anchor=\"middle\" x=\"90.12\" y=\"-300.97\" font-family=\"Times New Roman,serif\" font-size=\"14.00\">loan_id</text>\n",
       "</g>\n",
       "</g>\n",
       "</svg>\n"
      ],
      "text/plain": [
       "<graphviz.graphs.Digraph at 0x230a3f87d30>"
      ]
     },
     "execution_count": 10,
     "metadata": {},
     "output_type": "execute_result"
    }
   ],
   "source": [
    "es = ft.EntitySet(id = 'clients')\n",
    "\n",
    "## Entities Dataframe\n",
    "es = es.add_dataframe(\n",
    "    dataframe_name=\"clients\",\n",
    "    dataframe=clients,\n",
    "    index=\"client_id\",\n",
    "    time_index=\"joined\")\n",
    "\n",
    "es = es.add_dataframe(\n",
    "    dataframe_name=\"loans\",\n",
    "    dataframe=loans,\n",
    "    index=\"loan_id\",\n",
    "    time_index=\"loan_start\")\n",
    "\n",
    "es = es.add_dataframe(\n",
    "    dataframe_name=\"payments\",\n",
    "    dataframe=payments,\n",
    "    index=\"payment_id\",\n",
    "    time_index=\"payment_date\")\n",
    "\n",
    "## Adding Relationships in dataframes\n",
    "\n",
    "# Relationship between clients and previous loans\n",
    "ed = es.add_relationship('clients', 'client_id', 'loans', 'client_id')\n",
    "\n",
    "# Relationship between previous loans and previous payments\n",
    "es = es.add_relationship('loans', 'loan_id', 'payments', 'loan_id')\n",
    "es.plot()\n"
   ]
  },
  {
   "cell_type": "code",
   "execution_count": 15,
   "metadata": {},
   "outputs": [
    {
     "data": {
      "text/plain": [
       "Entityset: transactions\n",
       "  DataFrames:\n",
       "    transactions [Rows: 500, Columns: 6]\n",
       "    products [Rows: 5, Columns: 3]\n",
       "    sessions [Rows: 35, Columns: 5]\n",
       "    customers [Rows: 5, Columns: 5]\n",
       "  Relationships:\n",
       "    transactions.product_id -> products.product_id\n",
       "    transactions.session_id -> sessions.session_id\n",
       "    sessions.customer_id -> customers.customer_id"
      ]
     },
     "execution_count": 15,
     "metadata": {},
     "output_type": "execute_result"
    }
   ],
   "source": [
    "es = ft.demo.load_mock_customer(return_entityset=True)\n",
    "es['t']"
   ]
  }
 ],
 "metadata": {
  "kernelspec": {
   "display_name": "base",
   "language": "python",
   "name": "python3"
  },
  "language_info": {
   "codemirror_mode": {
    "name": "ipython",
    "version": 3
   },
   "file_extension": ".py",
   "mimetype": "text/x-python",
   "name": "python",
   "nbconvert_exporter": "python",
   "pygments_lexer": "ipython3",
   "version": "3.10.9"
  }
 },
 "nbformat": 4,
 "nbformat_minor": 2
}
